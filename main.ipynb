{
 "cells": [
  {
   "cell_type": "code",
   "execution_count": 1,
   "metadata": {},
   "outputs": [
    {
     "name": "stdout",
     "output_type": "stream",
     "text": [
      "Requirement already satisfied: numpy in c:\\users\\kusha\\appdata\\local\\programs\\python\\python312\\lib\\site-packages (1.26.4)\n",
      "Note: you may need to restart the kernel to use updated packages.\n",
      "Requirement already satisfied: opencv-python in c:\\users\\kusha\\appdata\\local\\programs\\python\\python312\\lib\\site-packages (4.10.0.84)\n",
      "Requirement already satisfied: numpy>=1.21.2 in c:\\users\\kusha\\appdata\\local\\programs\\python\\python312\\lib\\site-packages (from opencv-python) (1.26.4)\n",
      "Note: you may need to restart the kernel to use updated packages.\n"
     ]
    }
   ],
   "source": [
    "%pip install numpy\n",
    "%pip install opencv-python"
   ]
  },
  {
   "cell_type": "markdown",
   "metadata": {},
   "source": [
    "# Preparing Training Data"
   ]
  },
  {
   "cell_type": "code",
   "execution_count": 2,
   "metadata": {},
   "outputs": [],
   "source": [
    "import cv2\n",
    "from matplotlib.image import imread\n",
    "import numpy as np\n",
    "import os\n",
    "\n",
    "cat_train_file = os.listdir(\"data/train/cats\")\n",
    "cat_train = []\n",
    "\n",
    "target_shape = (256, 256)\n",
    "\n",
    "for cat in cat_train_file:\n",
    "    img = imread(f\"data/train/cats/{cat}\")\n",
    "    img_resized = cv2.resize(img, target_shape)\n",
    "    img_resized = img_resized / 255.0\n",
    "    cat_train.append(img_resized)\n",
    "\n",
    "cat_train = np.array(cat_train)\n",
    "cat_labels = np.zeros(len(cat_train))\n",
    "\n",
    "cat_train.shape, cat_labels.shape"
   ]
  },
  {
   "cell_type": "code",
   "execution_count": null,
   "metadata": {},
   "outputs": [],
   "source": [
    "import cv2\n",
    "from matplotlib.image import imread\n",
    "import numpy as np\n",
    "import os\n",
    "\n",
    "dog_train_file = os.listdir(\"data/train/dogs\")\n",
    "dog_train = []\n",
    "\n",
    "target_shape = (256, 256)\n",
    "\n",
    "for dog in dog_train_file:\n",
    "    img = imread(f\"data/train/dogs/{dog}\")\n",
    "    img_resized = cv2.resize(img, target_shape)\n",
    "    img_resized = img_resized / 255.0\n",
    "    dog_train.append(img_resized)\n",
    "\n",
    "dog_train = np.array(dog_train)\n",
    "dog_labels = np.ones(len(dog_train))\n",
    "\n",
    "dog_train.shape, dog_labels.shape"
   ]
  },
  {
   "cell_type": "code",
   "execution_count": null,
   "metadata": {},
   "outputs": [],
   "source": [
    "# creating a batch of 32\n",
    "\n",
    "dog_batch = []\n",
    "cat_batch = []\n",
    "\n",
    "batch_size = 32\n",
    "\n",
    "for i in range(0, len(dog_train), batch_size):\n",
    "    batch = dog_train[i:i+batch_size]\n",
    "    if len(batch) == batch_size:\n",
    "        dog_batch.append(batch)\n",
    "\n",
    "for i in range(0, len(cat_train), batch_size):\n",
    "    batch = cat_train[i:i+batch_size]\n",
    "    if len(batch) == batch_size:\n",
    "        cat_batch.append(batch)\n",
    "\n",
    "dog_train_main = np.array(dog_batch)\n",
    "cat_train_main = np.array(cat_batch)\n",
    "\n",
    "dog_train_main[0].shape, cat_train_main[0].shape"
   ]
  },
  {
   "cell_type": "markdown",
   "metadata": {},
   "source": [
    "# Creating a CNN Model"
   ]
  }
 ],
 "metadata": {
  "kernelspec": {
   "display_name": "Python 3",
   "language": "python",
   "name": "python3"
  },
  "language_info": {
   "codemirror_mode": {
    "name": "ipython",
    "version": 3
   },
   "file_extension": ".py",
   "mimetype": "text/x-python",
   "name": "python",
   "nbconvert_exporter": "python",
   "pygments_lexer": "ipython3",
   "version": "3.12.2"
  }
 },
 "nbformat": 4,
 "nbformat_minor": 2
}
